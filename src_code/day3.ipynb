{
 "cells": [
  {
   "cell_type": "markdown",
   "metadata": {},
   "source": [
    "# Pricing Options with Fast Fourier Transform (FFT) — Heston, Variance-Gamma and Black-Scholes\n",
    "\n",
    "In this article, I’ll show how you can value options with Fast Fourier Transform (FFT). The concepts and part of the code, that I’ll present here is based on the course “Financial Engineering and Risk Management” by Columbia University. It is offered through Coursera and I highly recommend it.\n",
    "\n",
    "The FFT is a mathematical technique that efficiently computes the discrete Fourier transform and has been adapted for option pricing due to its computational advantages. By employing FFT in option valuation, you can quickly and accurately determine the prices of various financial derivatives.\n",
    "\n",
    "First, I’ll show the general concept and how to perform the computations. Then I’ll show 3 pricing models and how to compute option prices based on their characteristic functions. We'll work with 3 models: Black-Scholes, Heston, and Variance Gamma.\n",
    "\n",
    "FFT technique can be applied also to caps, floors, and swaptions, which can be expressed as simple put and call options, thus enabling fast valuation of these instruments.\n",
    "\n",
    "Foundations\n",
    "Even though one could price the option by integration, this is not an efficient method. The better method is FFT pricing.\n",
    "\n",
    "Of course, we could write our explicit FFT functions to price the options, however, the NumPy module np.fft.fft is much faster, so we’ll use it instead.\n",
    "\n",
    "There is a set of rules we have to follow to make our calculations correct.\n",
    "1) log Strike — quite straightforward, you just have to write e.g. Strike = 100 as log(100)\n",
    "2) For FFT to be efficient you should always use 2^n (vectors, e.g. 2³ = 8)\n",
    "3) Logarithmic of a stock price process\n",
    "4) Defined parameters: eta, alpha, n and beta"
   ]
  },
  {
   "cell_type": "code",
   "execution_count": 2,
   "metadata": {},
   "outputs": [],
   "source": [
    "import numpy as np"
   ]
  },
  {
   "cell_type": "code",
   "execution_count": 3,
   "metadata": {},
   "outputs": [],
   "source": [
    "S0 = 100\n",
    "K = 80\n",
    "k = np.log(K)\n",
    "r = 0.055\n",
    "q = 0.03"
   ]
  },
  {
   "cell_type": "markdown",
   "metadata": {},
   "source": [
    "These are example parameters"
   ]
  },
  {
   "cell_type": "code",
   "execution_count": 4,
   "metadata": {},
   "outputs": [],
   "source": [
    "# Parameters for FFT \n",
    "n = 12\n",
    "N = 2**n\n",
    "#step-size\n",
    "eta = 0.25\n",
    "# damping factor\n",
    "alpha = 1"
   ]
  },
  {
   "cell_type": "code",
   "execution_count": 5,
   "metadata": {},
   "outputs": [],
   "source": [
    "lambda_ = (2*np.pi/N)/eta;\n",
    "beta = np.log(K)"
   ]
  },
  {
   "cell_type": "markdown",
   "metadata": {},
   "source": [
    "These are the basics. Now, let’s review the models will be working with and implement the FFT pricing.\n",
    "\n",
    "### Black-Scholes\n",
    "The Black-Scholes model is a fundamental mathematical model used in finance to calculate the theoretical price of European-style options.\n",
    "\n",
    "- Efficient Markets: The model assumes that financial markets are efficient and there are no arbitrage opportunities. It assumes continuous trading, no transaction costs, and that all information is reflected in the current market price.\n",
    "Log-Normal Distribution: The model assumes that the underlying asset’s price follows a log-normal distribution. This assumption, combined with continuous trading, leads to a geometric Brownian motion for the stock price.\n",
    "\n",
    "- Constant Volatility: It assumes that the volatility of the underlying asset is constant over the option’s life. This assumption is one of the primary limitations of the Black-Scholes model, as it contradicts empirical observations where volatility tends to change over time.\n",
    "\n",
    "- Risk-Free Interest Rate: The risk-free interest rate is assumed to be known and constant throughout the option’s life.\n",
    "\n",
    "\n",
    "The Black-Scholes model is a foundational tool in options pricing, providing a theoretical framework to estimate the fair price of European options under certain assumptions. Despite its simplicity and various assumptions, it laid the groundwork for further advancements in financial derivatives and option pricing theory. However, its limitations in capturing changing volatility and other market dynamics have led to the development of more sophisticated models like the Heston model and the Variance Gamma model mentioned later.\n",
    "\n",
    "The following equations represent the BS process and its characteristic function necessary for FFT calculations:\n",
    "\n",
    "\n",
    "### Heston\n",
    "The Heston model is a widely used stochastic volatility model in finance that addresses some limitations of the Black-Scholes model by introducing stochastic volatility. The model aims to capture the volatility smile observed in options markets and the tendency for volatility to fluctuate over time.\n",
    "\n",
    "- Stochastic Volatility: Unlike the Black-Scholes model, where volatility is assumed to be constant, the Heston model incorporates stochasticity in volatility. It assumes that the variance itself follows a stochastic process, typically modeled as a mean-reverting square-root diffusion process (CIR process).\n",
    "\n",
    "- Mean-Reversion: Heston’s stochastic volatility model includes mean-reverting behavior, where volatility tends to move towards a long-term average level. This mean-reverting property helps to capture the observed behavior of volatility in financial markets.\n",
    "\n",
    "- Volatility Smile: One of the primary motivations for the Heston model is its ability to produce the volatility smile, an empirical phenomenon where implied volatility varies with strike price and maturity in options markets.\n",
    "\n",
    "-Correlation between Asset Price and Volatility: The Heston model allows for a correlation parameter (typically denoted by ρ) between the asset price process and the volatility process. This correlation captures the relationship between asset prices and their corresponding volatilities. If the correlation is zero, it implies independence between the two processes.\n",
    "\n",
    "\n",
    "The Heston model’s introduction of stochastic volatility addresses some of the shortcomings of the Black-Scholes model by providing a more dynamic representation of market behavior. Its ability to capture the volatility smile and account for the tendency of volatility to fluctuate over time makes it a popular choice in options pricing and risk management applications within financial markets."
   ]
  },
  {
   "cell_type": "markdown",
   "metadata": {},
   "source": [
    "### Variance-Gamma\n",
    "The Variance Gamma (VG) model is an extension of the Black-Scholes model that incorporates both jumps in asset prices and stochastic volatility\n",
    "\n",
    "- Incorporation of Jumps: The VG model introduces jump components into the price dynamics, allowing for more realistic behavior in financial markets. These jumps help in capturing sudden and large movements that occur occasionally in asset prices.\n",
    "\n",
    "- Flexibility in Skewness and Kurtosis: VG allows for greater flexibility in modeling skewness (asymmetry) and kurtosis (fat-tailedness) compared to simpler models like Black-Scholes.\n",
    "\n",
    "- Stochastic Volatility: Similar to the Heston model, VG incorporates stochastic volatility, allowing volatility itself to vary stochastically over time. This feature provides a better representation of the empirical behavior of volatility in financial markets.\n",
    "\n",
    "When both skewness and kurtosis parameters are set to zero, the VG model converges to the Black-Scholes model. Additionally, the VG model reduces to the Merton jump-diffusion model when the stochastic volatility term is set to zero.\n",
    "\n",
    "Its ability to encompass both jumps and stochastic volatility allows for a more realistic representation of market dynamics and helps in addressing some of the limitations of simpler models.\n",
    "\n",
    "VG characteristic function of the Logarithm of Stock Price:"
   ]
  },
  {
   "cell_type": "markdown",
   "metadata": {},
   "source": [
    "### Code implementation\n",
    "\n",
    "After reviewing the models, we’ll be working with let’s see the code implementation. The first function “compute_characteristic_function” is just the direct implementation of the formulas above.\n",
    "\n",
    "The function takes input parameters specific to each model and generates the corresponding characteristic function. The phi variable holds the resulting characteristic function, which is then returned."
   ]
  },
  {
   "cell_type": "code",
   "execution_count": 6,
   "metadata": {},
   "outputs": [],
   "source": [
    "def compute_characteristic_function(u, params, S0, r, q, T, model):\n",
    "    if model == 'BS':\n",
    "        volatility = params[0]\n",
    "        drift = np.log(S0) + (r - q - volatility ** 2 / 2) * T\n",
    "        diffusion = volatility * np.sqrt(T)\n",
    "        phi = np.exp(1j * drift * u - (diffusion * u) ** 2 / 2)\n",
    "    elif model == 'Heston':\n",
    "        kappa = params[0]\n",
    "        theta = params[1]\n",
    "        sigma = params[2]\n",
    "        rho = params[3]\n",
    "        v0 = params[4]\n",
    "        \n",
    "        temp1 = (kappa - 1j * rho * sigma * u)\n",
    "        g = np.sqrt((sigma ** 2) * (u ** 2 + 1j * u) + temp1 ** 2)\n",
    "        power_term = 2 * kappa * theta / (sigma ** 2)\n",
    "        numerator = (kappa * theta * T * temp1) / (sigma ** 2) + 1j * u * T * r + 1j * u * np.log(S0)\n",
    "        log_denominator = power_term * np.log(np.cosh(g * T / 2) + (temp1 / g) * np.sinh(g * T / 2))\n",
    "        temp2 = ((u * u + 1j * u) * v0) / (g / np.tanh(g * T / 2) + temp1)\n",
    "        log_phi = numerator - log_denominator - temp2\n",
    "        phi = np.exp(log_phi)\n",
    "    elif model == 'VG':\n",
    "        sigma = params[0]\n",
    "        nu = params[1]\n",
    "        theta = params[2]\n",
    "        \n",
    "        if nu == 0:\n",
    "            mu = np.log(S0) + (r - q - theta - 0.5 * sigma ** 2) * T\n",
    "            phi = np.exp(1j * u * mu) * np.exp((1j * theta * u - 0.5 * sigma ** 2 * u ** 2) * T)\n",
    "        else:\n",
    "            mu = np.log(S0) + (r - q + np.log(1 - theta * nu - 0.5 * sigma ** 2 * nu) / nu) * T\n",
    "            phi = np.exp(1j * u * mu) * ((1 - 1j * nu * theta * u + 0.5 * nu * sigma ** 2 * u ** 2) ** (-T / nu))\n",
    "    return phi"
   ]
  },
  {
   "cell_type": "markdown",
   "metadata": {},
   "source": [
    "The function “genericFFT” essentially uses FFT to efficiently compute option prices by transforming characteristic function values and strike prices into a suitable space for pricing calculation, enabling faster and more accurate option valuation."
   ]
  },
  {
   "cell_type": "code",
   "execution_count": 7,
   "metadata": {},
   "outputs": [],
   "source": [
    "def calculate_fft_values(params, S0, K, r, q, T, alpha, eta, n, model):\n",
    "    \"\"\"\n",
    "    S0: Initial asset price.\n",
    "    K: Strike price of the option.\n",
    "    r: Risk-free interest rate.\n",
    "    q: Continuous dividend yield.\n",
    "    T: Time to maturity.\n",
    "    alpha: Constant used in the Carr-Madan method for damping.\n",
    "    eta: Step size for numerical integration in FFT.\n",
    "    n: Exponential factor to determine the number of steps in the FFT.\n",
    "    \"\"\"\n",
    "    N = 2 ** n\n",
    "    delta = (2 * np.pi / N) / eta\n",
    "    beta = np.log(K)\n",
    "    km_values = np.zeros(N)\n",
    "    x_values = np.zeros(N)\n",
    "    # discount factor\n",
    "    discount_factor = np.exp(-r * T)\n",
    "\n",
    "    nuJ = np.arange(N) * eta\n",
    "    psi_nuJ = generic_characteristic_function(nuJ - (alpha + 1) * 1j, params, S0, r, q, T, model) / (\n",
    "                (alpha + 1j * nuJ) * (alpha + 1 + 1j * nuJ))\n",
    "\n",
    "    km_values = beta + delta * np.arange(N)\n",
    "    w_values = eta * np.ones(N)\n",
    "    w_values[0] = eta / 2\n",
    "\n",
    "    x_values = np.exp(-1j * beta * nuJ) * discount_factor * psi_nuJ * w_values\n",
    "    y_values = np.fft.fft(x_values)\n",
    "\n",
    "    cT_km_values = np.zeros(N)\n",
    "    multiplier = np.exp(-alpha * km_values) / np.pi\n",
    "\n",
    "    cT_km_values = multiplier * np.real(y_values)\n",
    "\n",
    "    return km_values, cT_km_values"
   ]
  },
  {
   "cell_type": "markdown",
   "metadata": {},
   "source": [
    "And now code for pricing puts. It initializes a matrix put_matrix to store results. Each row represents a unique combination of parameters, and columns represent eta, n, alpha, and put price."
   ]
  },
  {
   "cell_type": "code",
   "execution_count": 8,
   "metadata": {},
   "outputs": [],
   "source": [
    "def calculate_put_prices(params, S0, K, r, q, T, model, alpha_values, eta_values, n_values):\n",
    "    num_prices = len(eta_values) * len(n_values) * len(alpha_values)\n",
    "    # Columns correspond to eta, n, alpha, and put price\n",
    "    put_matrix = np.zeros([num_prices, 4])\n",
    "    i = 0\n",
    "    for eta in eta_values:\n",
    "        for n in n_values:\n",
    "            for alpha in alpha_values:\n",
    "                # Pricing via FFT\n",
    "                put = 0 \n",
    "                k_values, option_values = genericFFT(params, S0, K, r, q, T, alpha, eta, n, model)\n",
    "                put = option_values[0]  # Considering only one strike\n",
    "                put_matrix[i] = np.array([eta, n, alpha, put])\n",
    "                i += 1\n",
    "    return put_matrix"
   ]
  },
  {
   "cell_type": "markdown",
   "metadata": {},
   "source": [
    "Now, let’s use the code and price some options! We’ll start with Black Scholes"
   ]
  },
  {
   "cell_type": "code",
   "execution_count": null,
   "metadata": {},
   "outputs": [],
   "source": [
    "mod = 'BS'\n",
    "sig = 0.3\n",
    "params = [sig]"
   ]
  },
  {
   "cell_type": "code",
   "execution_count": null,
   "metadata": {},
   "outputs": [],
   "source": [
    "def print_put_prices(params, S0, K, r, q, T, model, alpha_values, eta_values, n_values):\n",
    "    put_matrix = calculate_put_prices(params, S0, K, r, q, T, model, alpha_values, eta_values, n_values)\n",
    "    num_prices = put_matrix.shape[0]\n",
    "    \n",
    "    print('Model = ' + model)\n",
    "    print('eta\\tN\\talpha\\tput')\n",
    "    \n",
    "    for i in range(num_prices):\n",
    "        print('%.2f\\t2^%i\\t%.2f\\t%.4f' % (put_matrix[i, 0], put_matrix[i, 1], put_matrix[i, 2], put_matrix[i, 3]))"
   ]
  },
  {
   "cell_type": "markdown",
   "metadata": {},
   "source": [
    "## Heston:"
   ]
  },
  {
   "cell_type": "code",
   "execution_count": null,
   "metadata": {},
   "outputs": [],
   "source": [
    "mod = 'Heston'\n",
    "kappa = 2.\n",
    "theta = 0.05\n",
    "lda = 0.3\n",
    "rho = -0.7"
   ]
  },
  {
   "cell_type": "code",
   "execution_count": null,
   "metadata": {},
   "outputs": [],
   "source": [
    "v0 = 0.04\n",
    "params = [kappa, theta, lda, rho, v0]\n",
    "heston_matrix = price_all_puts(params, S0, K, r, q, T, mod, alpha_vec, eta_vec, n_vec)\n",
    "\n",
    "print('Model = ' + mod)\n",
    "print('eta\\tN\\talpha\\tput')\n",
    "for i in range(num_prices):\n",
    "    print('%.2f\\t2^%i\\t%.2f\\t%.4f' % (heston_matrix[i,0], heston_matrix[i,1], heston_matrix[i,2], heston_matrix[i,3]))"
   ]
  },
  {
   "cell_type": "markdown",
   "metadata": {},
   "source": [
    "### Variance-Gamma:"
   ]
  },
  {
   "cell_type": "code",
   "execution_count": null,
   "metadata": {},
   "outputs": [],
   "source": [
    "# model-specific parameters\n",
    "mod = 'VG'\n",
    "sigma = 0.3\n",
    "nu = 0.5\n",
    "theta = -0.4\n",
    "params = [sigma, nu, theta]"
   ]
  },
  {
   "cell_type": "code",
   "execution_count": null,
   "metadata": {},
   "outputs": [],
   "source": [
    "vg_matrix = price_all_puts(params, S0, K, r, q, T, mod, alpha_vec, eta_vec, n_vec)\n",
    "print('Model = ' + mod)\n",
    "print('eta\\tN\\talpha\\tput')\n",
    "for i in range(num_prices):\n",
    "    print('%.2f\\t2^%i\\t%.2f\\t%.4f' % (vg_matrix[i,0], vg_matrix[i,1], vg_matrix[i,2], vg_matrix[i,3]))"
   ]
  },
  {
   "cell_type": "markdown",
   "metadata": {},
   "source": [
    "### Interpretation of the results\n",
    "\n",
    "- eta: Represents the step size for numerical integration in the FFT method. Smaller values typically provide more precise results but require more computational resources.\n",
    "\n",
    "- n: Indicates the exponential factor used in determining the number of steps in the FFT. A larger n implies more precise calculations but increased computational complexity.\n",
    "\n",
    "- alpha: This is a constant used in the Carr-Madan method for damping. It affects the smoothness of the FFT-generated option price curve.\n",
    "\n",
    "- put: Denotes the computed put option price.\n",
    "\n",
    "By observing the rows for different combinations of eta, n, and alpha, you can see how changing these parameters influences the resulting put option prices.\n",
    "\n",
    "The results should not be interpreted without context! The reason for comparing the values is to compare them with the analytical solutions and determine good parameter choice for further pricing.\n",
    "\n",
    "### Conclusion\n",
    "\n",
    "In summary, the presented analysis offers a comprehensive perspective on the influence of diverse parameters on put option prices within the VG model. This scrutiny underscores the model’s sensitivity to varying parameter inputs, crucial for ensuring precision and stability in pricing.\n",
    "\n",
    "The exploration into FFT-based option pricing provides a foundational comprehension, highlighting the pivotal role of parameter sensitivity. This knowledge stands to aid quantitative finance practitioners in efficiently valuing derivatives. However, it also underscores the necessity for exacting parameter selections to ensure pricing accuracy in financial valuation practices.\n",
    "\n"
   ]
  },
  {
   "cell_type": "code",
   "execution_count": null,
   "metadata": {},
   "outputs": [],
   "source": []
  },
  {
   "cell_type": "markdown",
   "metadata": {},
   "source": []
  }
 ],
 "metadata": {
  "kernelspec": {
   "display_name": "Python 3",
   "language": "python",
   "name": "python3"
  },
  "language_info": {
   "codemirror_mode": {
    "name": "ipython",
    "version": 3
   },
   "file_extension": ".py",
   "mimetype": "text/x-python",
   "name": "python",
   "nbconvert_exporter": "python",
   "pygments_lexer": "ipython3",
   "version": "3.13.1"
  }
 },
 "nbformat": 4,
 "nbformat_minor": 2
}
